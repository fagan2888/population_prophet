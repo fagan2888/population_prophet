{
 "cells": [
  {
   "cell_type": "code",
   "execution_count": 1,
   "metadata": {},
   "outputs": [],
   "source": [
    "import pandas as pd\n",
    "import numpy as np\n",
    "import matplotlib.pyplot as plt\n",
    "import random"
   ]
  },
  {
   "cell_type": "code",
   "execution_count": 2,
   "metadata": {},
   "outputs": [],
   "source": [
    "# default cleaning method until proven otherwise\n",
    "def clean_census_frame(csv_path , head=False , reset=True , set_index=False ):\n",
    "    '''\n",
    "    inputs) \n",
    "        >> csv_path\n",
    "            > path to csv\n",
    "        >> head\n",
    "            > default=False\n",
    "                >> if != False\n",
    "                    > integer\n",
    "                        >> returns the first {head} rows (using .head() method) \n",
    "                            > instead of enitre dataframe\n",
    "        >> reset\n",
    "            > default=True\n",
    "                >> resets index after taking out rows\n",
    "            > if set to False\n",
    "                >> will not reset index\n",
    "        >> set_index\n",
    "            > default=False\n",
    "            > if != False\n",
    "                >> will set_index of new df to set_index\n",
    "    output)\n",
    "        >> dataframe cleaned like 2000 Census age&sex by 5-digit Zip Code (also how 2010 for same is cleaned)\n",
    "    how)\n",
    "        1. reads in csv , assumes it's large\n",
    "        2. makes a copy for editing \n",
    "            > and potential future use\n",
    "        3. locates readable column names  and non-readable names \n",
    "            > readable\n",
    "                    > e.g. Estimate; SEX AND AGE - Total population\n",
    "                >> assumes they are currently in row 0\n",
    "            > non-readable\n",
    "                    > e.g. HC01_VC03\n",
    "                >> assumes they are currently == dataframe.columns\n",
    "        4. replaces dataframe.columns (non-readable) with readable column names\n",
    "            > and drops the old 0th column (column where readable names were stored)\n",
    "        \n",
    "    '''\n",
    "    # load data\n",
    "    df = pd.read_csv( csv_path , low_memory=False )\n",
    "\n",
    "    # and copy\n",
    "    _df = df.copy()\n",
    "\n",
    "    # reset column names to current 0th row values\n",
    "    _df.columns = _df.iloc[0]\n",
    "    # new 2000 dataframe without row where values are from\n",
    "    clean_df = _df[1:]\n",
    "    \n",
    "    # default\n",
    "    if reset==True:\n",
    "        # reset index\n",
    "        clean_df = clean_df.reset_index()\n",
    "        \n",
    "    # set_index\n",
    "    if set_index:\n",
    "        clean_df = clean_df.set_index(set_index)\n",
    "    \n",
    "    if head:\n",
    "        # return first {head} rows of dataframe\n",
    "        return clean_df.head(head)\n",
    "    else:\n",
    "        # return dataframe\n",
    "        return clean_df\n",
    "    "
   ]
  },
  {
   "cell_type": "code",
   "execution_count": null,
   "metadata": {},
   "outputs": [],
   "source": [
    "def bring_the_5yr_acs_2k11_thru_2k17():\n",
    "    '''\n",
    "    inputs)\n",
    "        >> list_of_paths\n",
    "            > paths to each raw dataframe\n",
    "    output)\n",
    "        >> list of modified dataframes\n",
    "    function)\n",
    "        1. load and copy data\n",
    "        2. \n",
    "    '''\n",
    "    # load 2011 \n",
    "    y2k11 = clean_census_frame('../data/acs/aff_download/ACS_11_5YR_DP05_with_ann.csv',reset=False)\n",
    "    # copy\n",
    "    y11 = y2k11.copy()\n",
    "    # 2012\n",
    "    y2k12 = clean_census_frame('../data/acs/aff_download/ACS_12_5YR_DP05_with_ann.csv',reset=False)\n",
    "    y12 = y2k12.copy()\n",
    "    #2013\n",
    "    y2k13 = clean_census_frame('../data/acs/aff_download/ACS_13_5YR_DP05_with_ann.csv',reset=False)\n",
    "    y13 = y2k13.copy()\n",
    "    # 2014\n",
    "    y2k14 = clean_census_frame('../data/acs/aff_download/ACS_14_5YR_DP05_with_ann.csv',reset=False)\n",
    "    y14 = y2k14.copy()\n",
    "    # 2015\n",
    "    y2k15 = clean_census_frame('../data/acs/aff_download/ACS_15_5YR_DP05_with_ann.csv',reset=False)\n",
    "    y15 = y2k15.copy()\n",
    "    #2016\n",
    "    y2k16 = clean_census_frame('../data/acs/aff_download/ACS_16_5YR_DP05_with_ann.csv',reset=False)\n",
    "    y16 = y2k16.copy()\n",
    "    #2017\n",
    "    y2k17 = clean_census_frame('../data/acs/aff_download/ACS_17_5YR_DP05_with_ann.csv',reset=False)\n",
    "    y17 = y2k17.copy()\n",
    "\n",
    "    '''copy data for editing and extracting info'''\n",
    "    # 2011\n",
    "    # 2012\n",
    "    # 2013\n",
    "    # 2014\n",
    "    # 2015\n",
    "    # 2016\n",
    "    # 2017\n",
    "\n",
    "    '''identify columns'''\n",
    "    # 2011\n",
    "    tags11 = y11.columns  \n",
    "    # 2012\n",
    "    tags12 = y12.columns  \n",
    "    #2013\n",
    "    tags13 = y13.columns  \n",
    "    # 2014\n",
    "    tags14 = y14.columns  \n",
    "    # 2015\n",
    "    tags15 = y15.columns  \n",
    "    #2016\n",
    "    tags16 = y16.columns  \n",
    "    # 2017\n",
    "    tags17 = y17.columns \n",
    "\n",
    "    '''identify common columns'''\n",
    "    # collection of columns appearing in all 7 dataframes 2011-2017\n",
    "    common_tags = [tag for tag in tags17 if tag in tags11 & tags12 & tags13 & tags14 & tags15 & tags16]\n",
    "\n",
    "    '''identify non common columns for specific frames'''\n",
    "    # 2011\n",
    "    uncommon_11 = [tag for tag in y11.columns if tag not in common_tags]\n",
    "    # 2012\n",
    "    uncommon_12 = [tag for tag in y12.columns if tag not in common_tags]\n",
    "    # 2013\n",
    "    uncommon_13 = [tag for tag in y13.columns if tag not in common_tags]\n",
    "    # 2014\n",
    "    uncommon_14 = [tag for tag in y14.columns if tag not in common_tags]\n",
    "    # 2015\n",
    "    uncommon_15 = [tag for tag in y15.columns if tag not in common_tags]\n",
    "    # 2016\n",
    "    uncommon_16 = [tag for tag in y16.columns if tag not in common_tags]\n",
    "    # 2017\n",
    "    uncommon_17 = [tag for tag in y17.columns if tag not in common_tags]\n",
    "\n",
    "    \"\"\"drop each frame's uncommon columns, reset index\"\"\"\n",
    "    # 2011\n",
    "    y11 = y11.drop(uncommon_11,axis=1).reset_index()\n",
    "    # # 2012\n",
    "    y12 = y12.drop(uncommon_12,axis=1).reset_index()\n",
    "    # # 2013\n",
    "    y13 = y13.drop(uncommon_13,axis=1).reset_index()\n",
    "    # # 2014\n",
    "    y14 = y14.drop(uncommon_14,axis=1).reset_index()\n",
    "    # # 2015\n",
    "    y15 = y15.drop(uncommon_15,axis=1).reset_index()\n",
    "    # # 2016\n",
    "    y16 = y16.drop(uncommon_16,axis=1).reset_index()\n",
    "    # # 2017\n",
    "    y17 = y17.drop(uncommon_17,axis=1).reset_index()\n",
    "    \n",
    "    return [y11,y12,y13,y14,y15,y16,y17]"
   ]
  },
  {
   "cell_type": "code",
   "execution_count": null,
   "metadata": {},
   "outputs": [],
   "source": [
    "# test = bring_the_5yr_acs_2k11_thru_2k17()\n",
    "len(common_tags)"
   ]
  },
  {
   "cell_type": "code",
   "execution_count": null,
   "metadata": {},
   "outputs": [],
   "source": [
    "test_000 = test.copy()"
   ]
  },
  {
   "cell_type": "code",
   "execution_count": null,
   "metadata": {},
   "outputs": [],
   "source": [
    "for i in range(len(test_000)):\n",
    "    print(f'{len(test_000[i])} rows x {len(test_000[i].iloc[1])} columns')"
   ]
  },
  {
   "cell_type": "code",
   "execution_count": null,
   "metadata": {},
   "outputs": [],
   "source": [
    "# number of identical columns 2011 and 2012 is same number as all columns in 2011\n",
    "# and count of columns in 2012 is same as count in 2011\n",
    "if sum(test_000[0].columns == test_000[1].columns) == len(test_000[0].columns) and len(test_000[1].columns) == len(test_000[0].columns):\n",
    "    # number of columns for 2013 is same as number that are same between 2013 and 2014 and between 2014 and 2015 \n",
    "    if len(test_000[2].columns) == sum(test_000[2].columns == test_000[3].columns) & sum(test_000[3].columns == test_000[4].columns):\n",
    "        # number of columns for 2017 is same as number that are same between 2016 and 2014 and between 2017 and 2015 \n",
    "        if len(test_000[6].columns) == sum(test_000[5].columns == test_000[3].columns) & sum(test_000[6].columns == test_000[4].columns):\n",
    "            if len(test_000[0].columns) != len(test_000[5].columns) and len(test_000[5].columns) == len(test_000[5].columns):\n",
    "                print('pretty ok to assume\\n2011-2012 are identical and 2013-2017 are identical\\nbut 2011-2012 and 2013-2017 are different')\n",
    "        "
   ]
  },
  {
   "cell_type": "code",
   "execution_count": null,
   "metadata": {},
   "outputs": [],
   "source": [
    "_2k11 = test_000[0]\n",
    "_2k15 = test_000[4]"
   ]
  },
  {
   "cell_type": "code",
   "execution_count": null,
   "metadata": {},
   "outputs": [],
   "source": [
    "len(_2k11.columns), len(_2k15.columns)"
   ]
  },
  {
   "cell_type": "code",
   "execution_count": null,
   "metadata": {},
   "outputs": [],
   "source": [
    "len(set(_2k11.columns)), len(set(_2k15.columns))"
   ]
  },
  {
   "cell_type": "code",
   "execution_count": null,
   "metadata": {},
   "outputs": [],
   "source": [
    "out_15 = []\n",
    "repeat_15=0\n",
    "for i in _2k15.columns:\n",
    "    if i not in out_15:\n",
    "        out_15.append(i)\n",
    "    else:\n",
    "        print(i)\n",
    "        repeat_15+=1\n",
    "repeat_15"
   ]
  },
  {
   "cell_type": "code",
   "execution_count": null,
   "metadata": {},
   "outputs": [],
   "source": [
    "out_11 = []\n",
    "repeat_11 = 0\n",
    "for i in _2k11.columns:\n",
    "    if i not in out_11:\n",
    "        out_11.append(i)\n",
    "    else:\n",
    "        print(i)\n",
    "        repeat_11+=1        \n",
    "repeat_11"
   ]
  },
  {
   "cell_type": "code",
   "execution_count": null,
   "metadata": {},
   "outputs": [],
   "source": []
  },
  {
   "cell_type": "code",
   "execution_count": 15,
   "metadata": {},
   "outputs": [],
   "source": [
    "'''identify columns'''\n",
    "# 2011\n",
    "a = clean_census_frame('../data/acs/aff_download/ACS_11_5YR_DP05_with_ann.csv',reset=False)\n",
    "# 2012\n",
    "b = clean_census_frame('../data/acs/aff_download/ACS_12_5YR_DP05_with_ann.csv',reset=False)\n",
    "#2013\n",
    "c = clean_census_frame('../data/acs/aff_download/ACS_13_5YR_DP05_with_ann.csv',reset=False) \n",
    "# 2014\n",
    "d = clean_census_frame('../data/acs/aff_download/ACS_14_5YR_DP05_with_ann.csv',reset=False)\n",
    "# 2015\n",
    "e = clean_census_frame('../data/acs/aff_download/ACS_15_5YR_DP05_with_ann.csv',reset=False) \n",
    "#2016\n",
    "f = clean_census_frame('../data/acs/aff_download/ACS_16_5YR_DP05_with_ann.csv',reset=False) \n",
    "# 2017\n",
    "g = clean_census_frame('../data/acs/aff_download/ACS_17_5YR_DP05_with_ann.csv',reset=False) "
   ]
  },
  {
   "cell_type": "code",
   "execution_count": 16,
   "metadata": {},
   "outputs": [],
   "source": [
    "'''identify common columns'''\n",
    "# collection of columns appearing in all 7 dataframes 2011-2017\n",
    "common = set([tag for tag in g.columns if tag in a.columns & b.columns & c.columns & d.columns & e.columns & f.columns])"
   ]
  },
  {
   "cell_type": "code",
   "execution_count": 17,
   "metadata": {},
   "outputs": [],
   "source": [
    "'''identify non common columns for specific frames'''\n",
    "# 2011\n",
    "u11 = [tag for tag in a.columns if tag not in common]\n",
    "# 2012\n",
    "u12 = [tag for tag in b.columns if tag not in common]\n",
    "# 2013\n",
    "u13 = [tag for tag in c.columns if tag not in common]\n",
    "# 2014\n",
    "u14 = [tag for tag in d.columns if tag not in common]\n",
    "# 2015\n",
    "u15 = [tag for tag in e.columns if tag not in common]\n",
    "# 2016\n",
    "u16 = [tag for tag in f.columns if tag not in common]\n",
    "# 2017\n",
    "u17 = [tag for tag in g.columns if tag not in common]"
   ]
  },
  {
   "cell_type": "code",
   "execution_count": 18,
   "metadata": {},
   "outputs": [],
   "source": [
    "\"\"\"drop each frame's uncommon columns, reset index\"\"\"\n",
    "# 2011\n",
    "aa = a.copy().drop(u11,axis=1).reset_index()\n",
    "# # 2012\n",
    "bb = b.copy().drop(u12,axis=1).reset_index()\n",
    "# # 2013\n",
    "cc = c.copy().drop(u13,axis=1).reset_index()\n",
    "# # 2014\n",
    "dd = d.copy().drop(u14,axis=1).reset_index()\n",
    "# # 2015\n",
    "ee = e.copy().drop(u15,axis=1).reset_index()\n",
    "# # 2016\n",
    "ff = f.copy().drop(u16,axis=1).reset_index()\n",
    "# # 2017\n",
    "gg = g.copy().drop(u17,axis=1).reset_index()"
   ]
  },
  {
   "cell_type": "code",
   "execution_count": 39,
   "metadata": {},
   "outputs": [
    {
     "data": {
      "text/plain": [
       "[[80, 'Estimate; SEX AND AGE - 18 years and over'],\n",
       " [81, 'Margin of Error; SEX AND AGE - 18 years and over'],\n",
       " [82, 'Percent; SEX AND AGE - 18 years and over'],\n",
       " [83, 'Percent Margin of Error; SEX AND AGE - 18 years and over'],\n",
       " [84, 'Estimate; SEX AND AGE - 65 years and over'],\n",
       " [85, 'Margin of Error; SEX AND AGE - 65 years and over'],\n",
       " [86, 'Percent; SEX AND AGE - 65 years and over'],\n",
       " [87, 'Percent Margin of Error; SEX AND AGE - 65 years and over']]"
      ]
     },
     "execution_count": 39,
     "metadata": {},
     "output_type": "execute_result"
    }
   ],
   "source": [
    "acol = aa.columns\n",
    "bcol=bb.columns\n",
    "ccol = cc.columns\n",
    "dcol=dd.columns\n",
    "ecol=ee.columns\n",
    "fcol=ff.columns\n",
    "gcol = gg.columns\n",
    "\n",
    "def test_non_unique(column_names):\n",
    "    first_occour = []\n",
    "    non_unique = []\n",
    "    for i,_ in enumerate(column_names):\n",
    "        if _ not in first_occour:\n",
    "            first_occour.append(_)\n",
    "        else:\n",
    "            non_unique.append([i,_])\n",
    "    return non_unique\n",
    "\n",
    "a=test_non_unique(acol)\n",
    "b=test_non_unique(bcol)\n",
    "c=test_non_unique(ccol)\n",
    "d=test_non_unique(dcol)\n",
    "e=test_non_unique(ecol)\n",
    "f=test_non_unique(fcol)\n",
    "g=test_non_unique(gcol)\n",
    "\n",
    "common_repeats = [_ for _ in g if _ in a]\n",
    "common_repeats = [i for i in b if i in common_repeats]\n",
    "common_repeats = [_ for _ in c if _ in common_repeats]\n",
    "common_repeats = [i for i in d if i in common_repeats]\n",
    "common_repeats = [_ for _ in e if _ in common_repeats]\n",
    "common_repeats = [i for i in f if i in common_repeats]\n",
    "common_repeats = [_ for _ in a if _ in common_repeats]\n",
    "common_repeats \n",
    "# \"\"\"\n",
    "# [[80, 'Estimate; SEX AND AGE - 18 years and over'],\n",
    "#  [81, 'Margin of Error; SEX AND AGE - 18 years and over'],\n",
    "#  [82, 'Percent; SEX AND AGE - 18 years and over'],\n",
    "#  [83, 'Percent Margin of Error; SEX AND AGE - 18 years and over'],\n",
    "#  [84, 'Estimate; SEX AND AGE - 65 years and over'],\n",
    "#  [85, 'Margin of Error; SEX AND AGE - 65 years and over'],\n",
    "#  [86, 'Percent; SEX AND AGE - 65 years and over'],\n",
    "#  [87, 'Percent Margin of Error; SEX AND AGE - 65 years and over']]\"\"\""
   ]
  },
  {
   "cell_type": "markdown",
   "metadata": {},
   "source": [
    "- ***notes***;\n",
    "    - while different len, the column names are the same across the board"
   ]
  },
  {
   "cell_type": "code",
   "execution_count": 8,
   "metadata": {},
   "outputs": [],
   "source": [
    "out = [aa,bb,cc,dd,ee,ff,gg]"
   ]
  },
  {
   "cell_type": "code",
   "execution_count": 40,
   "metadata": {},
   "outputs": [
    {
     "data": {
      "text/plain": [
       "(220, 204, 204)"
      ]
     },
     "execution_count": 40,
     "metadata": {},
     "output_type": "execute_result"
    }
   ],
   "source": [
    "len(aa.columns), len(set(aa.columns)),len(aa.columns.unique())\n",
    "# pre set(common) on non-common lists (220, 204, 204)\n",
    "# post set(common) on non-common lists (220, 204, 204)"
   ]
  },
  {
   "cell_type": "code",
   "execution_count": 41,
   "metadata": {},
   "outputs": [],
   "source": [
    "x = [u11,u12,u13,u14,u15,u16,u17]\n",
    "y = out\n",
    "\n",
    "o = [len(_) for _ in x]\n",
    "so = [len(set(_)) for _ in x]\n",
    "\n",
    "co = [len(_.columns) for _ in y]\n",
    "cso = [len(set(_.columns)) for _ in y]\n",
    "\n",
    "years = ['2011','2012','2013','2014','2015','2016','2017']\n",
    "cols = ['list','set','diff']\n",
    "\n",
    "os = []\n",
    "for _ in range((len(o))):\n",
    "    os.append([o[_],so[_],o[_]-so[_]])\n",
    "    \n",
    "cos = []\n",
    "for _ in range((len(o))):\n",
    "    cos.append([co[_],cso[_],co[_]-cso[_]]) \n",
    "    \n",
    "q = pd.DataFrame(data=os,index=years,columns=cols)\n",
    "cq = pd.DataFrame(data=cos,index=years,columns=cols)"
   ]
  },
  {
   "cell_type": "code",
   "execution_count": 83,
   "metadata": {},
   "outputs": [
    {
     "ename": "TypeError",
     "evalue": "'builtin_function_or_method' object is not subscriptable",
     "output_type": "error",
     "traceback": [
      "\u001b[0;31m---------------------------------------------------------------------------\u001b[0m",
      "\u001b[0;31mTypeError\u001b[0m                                 Traceback (most recent call last)",
      "\u001b[0;32m<ipython-input-83-f865aa3c2a36>\u001b[0m in \u001b[0;36m<module>\u001b[0;34m\u001b[0m\n\u001b[1;32m      2\u001b[0m \u001b[0municommon\u001b[0m \u001b[0;34m=\u001b[0m \u001b[0;34m[\u001b[0m\u001b[0m_\u001b[0m\u001b[0;34m.\u001b[0m\u001b[0mcolumns\u001b[0m\u001b[0;34m.\u001b[0m\u001b[0munique\u001b[0m\u001b[0;34m(\u001b[0m\u001b[0;34m)\u001b[0m \u001b[0;32mfor\u001b[0m \u001b[0m_\u001b[0m \u001b[0;32min\u001b[0m \u001b[0my\u001b[0m\u001b[0;34m]\u001b[0m\u001b[0;34m\u001b[0m\u001b[0;34m\u001b[0m\u001b[0m\n\u001b[1;32m      3\u001b[0m \u001b[0;31m# len(reallycommon[0]),len(unicommon[0])\u001b[0m\u001b[0;34m\u001b[0m\u001b[0;34m\u001b[0m\u001b[0;34m\u001b[0m\u001b[0m\n\u001b[0;32m----> 4\u001b[0;31m \u001b[0mr\u001b[0m\u001b[0;34m=\u001b[0m\u001b[0mreallycommon\u001b[0m\u001b[0;34m[\u001b[0m\u001b[0;36m0\u001b[0m\u001b[0;34m]\u001b[0m\u001b[0;34m.\u001b[0m\u001b[0mdrop\u001b[0m\u001b[0;34m(\u001b[0m\u001b[0mreallycommon\u001b[0m\u001b[0;34m.\u001b[0m\u001b[0mindex\u001b[0m\u001b[0;34m[\u001b[0m\u001b[0;34m[\u001b[0m\u001b[0;36m79\u001b[0m\u001b[0;34m,\u001b[0m\u001b[0;36m80\u001b[0m\u001b[0;34m]\u001b[0m\u001b[0;34m]\u001b[0m\u001b[0;34m)\u001b[0m\u001b[0;34m\u001b[0m\u001b[0;34m\u001b[0m\u001b[0m\n\u001b[0m\u001b[1;32m      5\u001b[0m \u001b[0mur\u001b[0m\u001b[0;34m=\u001b[0m\u001b[0;34m[\u001b[0m\u001b[0municommon\u001b[0m\u001b[0;34m]\u001b[0m\u001b[0;34m[\u001b[0m\u001b[0;36m0\u001b[0m\u001b[0;34m]\u001b[0m\u001b[0;34m[\u001b[0m\u001b[0;36m0\u001b[0m\u001b[0;34m]\u001b[0m\u001b[0;34m\u001b[0m\u001b[0;34m\u001b[0m\u001b[0m\n\u001b[1;32m      6\u001b[0m \u001b[0;32mfor\u001b[0m \u001b[0mu\u001b[0m\u001b[0;34m,\u001b[0m\u001b[0mi\u001b[0m \u001b[0;32min\u001b[0m \u001b[0menumerate\u001b[0m\u001b[0;34m(\u001b[0m\u001b[0mr\u001b[0m\u001b[0;34m)\u001b[0m\u001b[0;34m:\u001b[0m\u001b[0;34m\u001b[0m\u001b[0;34m\u001b[0m\u001b[0m\n",
      "\u001b[0;31mTypeError\u001b[0m: 'builtin_function_or_method' object is not subscriptable"
     ]
    }
   ],
   "source": [
    "reallycommon = [_.columns for _ in y]\n",
    "unicommon = [_.columns.unique() for _ in y]\n",
    "# len(reallycommon[0]),len(unicommon[0])\n",
    "r=reallycommon[0].drop(reallycommon.index[[79,80]])\n",
    "ur=[unicommon][0][0]\n",
    "for u,i in enumerate(r):\n",
    "    if r[u]!=ur[u]:\n",
    "        print(f'{u}\\n{r[u]}\\n{ur[u]}\\n')\n",
    "# len(r),len(ur)\n"
   ]
  },
  {
   "cell_type": "code",
   "execution_count": 42,
   "metadata": {},
   "outputs": [
    {
     "data": {
      "text/html": [
       "<div>\n",
       "<style scoped>\n",
       "    .dataframe tbody tr th:only-of-type {\n",
       "        vertical-align: middle;\n",
       "    }\n",
       "\n",
       "    .dataframe tbody tr th {\n",
       "        vertical-align: top;\n",
       "    }\n",
       "\n",
       "    .dataframe thead th {\n",
       "        text-align: right;\n",
       "    }\n",
       "</style>\n",
       "<table border=\"1\" class=\"dataframe\">\n",
       "  <thead>\n",
       "    <tr style=\"text-align: right;\">\n",
       "      <th></th>\n",
       "      <th>list</th>\n",
       "      <th>set</th>\n",
       "      <th>diff</th>\n",
       "    </tr>\n",
       "  </thead>\n",
       "  <tbody>\n",
       "    <tr>\n",
       "      <th>2011</th>\n",
       "      <td>108</td>\n",
       "      <td>92</td>\n",
       "      <td>16</td>\n",
       "    </tr>\n",
       "    <tr>\n",
       "      <th>2012</th>\n",
       "      <td>108</td>\n",
       "      <td>92</td>\n",
       "      <td>16</td>\n",
       "    </tr>\n",
       "    <tr>\n",
       "      <th>2013</th>\n",
       "      <td>116</td>\n",
       "      <td>116</td>\n",
       "      <td>0</td>\n",
       "    </tr>\n",
       "    <tr>\n",
       "      <th>2014</th>\n",
       "      <td>116</td>\n",
       "      <td>116</td>\n",
       "      <td>0</td>\n",
       "    </tr>\n",
       "    <tr>\n",
       "      <th>2015</th>\n",
       "      <td>128</td>\n",
       "      <td>128</td>\n",
       "      <td>0</td>\n",
       "    </tr>\n",
       "    <tr>\n",
       "      <th>2016</th>\n",
       "      <td>128</td>\n",
       "      <td>128</td>\n",
       "      <td>0</td>\n",
       "    </tr>\n",
       "    <tr>\n",
       "      <th>2017</th>\n",
       "      <td>148</td>\n",
       "      <td>148</td>\n",
       "      <td>0</td>\n",
       "    </tr>\n",
       "  </tbody>\n",
       "</table>\n",
       "</div>"
      ],
      "text/plain": [
       "      list  set  diff\n",
       "2011   108   92    16\n",
       "2012   108   92    16\n",
       "2013   116  116     0\n",
       "2014   116  116     0\n",
       "2015   128  128     0\n",
       "2016   128  128     0\n",
       "2017   148  148     0"
      ]
     },
     "execution_count": 42,
     "metadata": {},
     "output_type": "execute_result"
    }
   ],
   "source": [
    "q"
   ]
  },
  {
   "cell_type": "code",
   "execution_count": 45,
   "metadata": {},
   "outputs": [
    {
     "data": {
      "text/html": [
       "<div>\n",
       "<style scoped>\n",
       "    .dataframe tbody tr th:only-of-type {\n",
       "        vertical-align: middle;\n",
       "    }\n",
       "\n",
       "    .dataframe tbody tr th {\n",
       "        vertical-align: top;\n",
       "    }\n",
       "\n",
       "    .dataframe thead th {\n",
       "        text-align: right;\n",
       "    }\n",
       "</style>\n",
       "<table border=\"1\" class=\"dataframe\">\n",
       "  <thead>\n",
       "    <tr style=\"text-align: right;\">\n",
       "      <th></th>\n",
       "      <th>list</th>\n",
       "      <th>set</th>\n",
       "      <th>diff</th>\n",
       "    </tr>\n",
       "  </thead>\n",
       "  <tbody>\n",
       "    <tr>\n",
       "      <th>2011</th>\n",
       "      <td>219</td>\n",
       "      <td>203</td>\n",
       "      <td>16</td>\n",
       "    </tr>\n",
       "    <tr>\n",
       "      <th>2012</th>\n",
       "      <td>219</td>\n",
       "      <td>203</td>\n",
       "      <td>16</td>\n",
       "    </tr>\n",
       "    <tr>\n",
       "      <th>2013</th>\n",
       "      <td>211</td>\n",
       "      <td>203</td>\n",
       "      <td>8</td>\n",
       "    </tr>\n",
       "    <tr>\n",
       "      <th>2014</th>\n",
       "      <td>211</td>\n",
       "      <td>203</td>\n",
       "      <td>8</td>\n",
       "    </tr>\n",
       "    <tr>\n",
       "      <th>2015</th>\n",
       "      <td>211</td>\n",
       "      <td>203</td>\n",
       "      <td>8</td>\n",
       "    </tr>\n",
       "    <tr>\n",
       "      <th>2016</th>\n",
       "      <td>211</td>\n",
       "      <td>203</td>\n",
       "      <td>8</td>\n",
       "    </tr>\n",
       "    <tr>\n",
       "      <th>2017</th>\n",
       "      <td>211</td>\n",
       "      <td>203</td>\n",
       "      <td>8</td>\n",
       "    </tr>\n",
       "  </tbody>\n",
       "</table>\n",
       "</div>"
      ],
      "text/plain": [
       "      list  set  diff\n",
       "2011   219  203    16\n",
       "2012   219  203    16\n",
       "2013   211  203     8\n",
       "2014   211  203     8\n",
       "2015   211  203     8\n",
       "2016   211  203     8\n",
       "2017   211  203     8"
      ]
     },
     "execution_count": 45,
     "metadata": {},
     "output_type": "execute_result"
    }
   ],
   "source": [
    "cq\n"
   ]
  },
  {
   "cell_type": "code",
   "execution_count": null,
   "metadata": {},
   "outputs": [],
   "source": [
    "len(gg.columns), len(set(gg.columns)),len(gg.columns.unique())\n",
    "# pre set(common) on non-common lists (212, 204, 204)\n",
    "# post set(common) on non-common lists (212, 204, 204)"
   ]
  },
  {
   "cell_type": "code",
   "execution_count": null,
   "metadata": {},
   "outputs": [],
   "source": [
    "len(common), len(set(common)), len(common)\n",
    "# pre set(common) on non-common lists (211, 203, 203)\n",
    "# post set(common) on non-common lists (211, 203, 203)"
   ]
  },
  {
   "cell_type": "code",
   "execution_count": null,
   "metadata": {},
   "outputs": [],
   "source": [
    "len(aa['Geography']) , len(aa['Geography'].unique()) \n"
   ]
  },
  {
   "cell_type": "code",
   "execution_count": null,
   "metadata": {},
   "outputs": [],
   "source": [
    "# X, y = make_classification(n_classes=3, n_features=2, n_redundant=0,\n",
    "#                            n_informative=2, n_clusters_per_class=1,\n",
    "#                            class_sep=1, random_state=5)\n",
    "# print(y.shape)\n",
    "# _knn = KNearestNeighbors(4, cosine_distance)\n",
    "# _knn.fit(X, y)"
   ]
  }
 ],
 "metadata": {
  "kernelspec": {
   "display_name": "Python 3",
   "language": "python",
   "name": "python3"
  },
  "language_info": {
   "codemirror_mode": {
    "name": "ipython",
    "version": 3
   },
   "file_extension": ".py",
   "mimetype": "text/x-python",
   "name": "python",
   "nbconvert_exporter": "python",
   "pygments_lexer": "ipython3",
   "version": "3.7.2"
  }
 },
 "nbformat": 4,
 "nbformat_minor": 2
}
