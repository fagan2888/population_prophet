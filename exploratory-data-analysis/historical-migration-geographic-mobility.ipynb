{
 "cells": [
  {
   "cell_type": "code",
   "execution_count": 2,
   "metadata": {},
   "outputs": [],
   "source": [
    "import csv\n",
    "import xlrd\n",
    "import pandas as pd\n",
    "\n",
    "# https://www.census.gov/data/tables/time-series/demo/geographic-mobility/historic.html\n",
    "annual_geographical_mobility_rates_type_movement = pd.read_excel( '../data/cps-historical-migration-geographic-mobility/tab-a-1.xls' )"
   ]
  },
  {
   "cell_type": "code",
   "execution_count": null,
   "metadata": {},
   "outputs": [],
   "source": []
  }
 ],
 "metadata": {
  "kernelspec": {
   "display_name": "Python 3",
   "language": "python",
   "name": "python3"
  },
  "language_info": {
   "codemirror_mode": {
    "name": "ipython",
    "version": 3
   },
   "file_extension": ".py",
   "mimetype": "text/x-python",
   "name": "python",
   "nbconvert_exporter": "python",
   "pygments_lexer": "ipython3",
   "version": "3.7.2"
  }
 },
 "nbformat": 4,
 "nbformat_minor": 2
}
