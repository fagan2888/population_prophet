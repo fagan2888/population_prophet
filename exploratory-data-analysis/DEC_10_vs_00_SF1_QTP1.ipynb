{
 "cells": [
  {
   "cell_type": "code",
   "execution_count": null,
   "metadata": {},
   "outputs": [],
   "source": []
  },
  {
   "cell_type": "code",
   "execution_count": null,
   "metadata": {},
   "outputs": [],
   "source": [
    "import time\n",
    "import numpy as np\n",
    "import pandas as pd"
   ]
  },
  {
   "cell_type": "code",
   "execution_count": null,
   "metadata": {},
   "outputs": [],
   "source": [
    "# load 2000 data\n",
    "bush = pd.read_csv( '../data/2000/age-groups-and-sex-census-DEC_00_SF1_QTP1/DEC_00_SF1_QTP1_with_ann.csv' , low_memory=False )\n",
    "# load 2010 data\n",
    "obama = pd.read_csv( '../data/2010/age-groups-and-sex-census-DEC_10_SF1_QTP1/DEC_10_SF1_QTP1_with_ann.csv' , low_memory=False )\n",
    "# load 2000 metadata\n",
    "b_metadata = pd.read_csv( '../data/2000/age-groups-and-sex-census-DEC_00_SF1_QTP1/DEC_00_SF1_QTP1_metadata.csv' )\n",
    "# load 2010 metadata\n",
    "o_metadata = pd.read_csv( '../data/2010/age-groups-and-sex-census-DEC_10_SF1_QTP1/DEC_10_SF1_QTP1_metadata.csv' )"
   ]
  },
  {
   "cell_type": "code",
   "execution_count": null,
   "metadata": {},
   "outputs": [],
   "source": [
    "# same metadata , should make for good comps\n",
    "b_metadata.info() == o_metadata.info()"
   ]
  },
  {
   "cell_type": "code",
   "execution_count": null,
   "metadata": {},
   "outputs": [],
   "source": [
    "bush.describe()"
   ]
  },
  {
   "cell_type": "code",
   "execution_count": null,
   "metadata": {},
   "outputs": [],
   "source": [
    "obama.describe()"
   ]
  },
  {
   "cell_type": "code",
   "execution_count": null,
   "metadata": {},
   "outputs": [],
   "source": [
    "bush.head()"
   ]
  },
  {
   "cell_type": "code",
   "execution_count": null,
   "metadata": {},
   "outputs": [],
   "source": [
    "obama.head()"
   ]
  },
  {
   "cell_type": "code",
   "execution_count": null,
   "metadata": {},
   "outputs": [],
   "source": [
    "# compare dataframes\n",
    "\n",
    "'''coded column names \n",
    "    >> e.g. SUBHD0103_S01, HD03_S41'''\n",
    "# 2000 high-level column names (current exists before row 0 )\n",
    "b_hi_column_names = [ name for name in bush.columns.values ]\n",
    "# 2010 high-level column names (current exists before row 0 )\n",
    "o_hi_column_names = [ name for name in obama.columns.values ]\n",
    "\n",
    "# number of names are same \n",
    "if len( b_hi_column_names ) == len( o_hi_column_names ):\n",
    "    # keep track of names that exist in both data\n",
    "    hi_both = []   \n",
    "    # keep track of 2000 names that do not exist in 2010 data\n",
    "    hi_b_only = []\n",
    "    # keep track of 2010 names that do not exist in 2000 data\n",
    "    hi_o_only = []\n",
    "    # index length\n",
    "    for _ in range( len( b_hi_column_names ) ):\n",
    "        # column name found at this index in 2000 df is not a column name in 2010 df \n",
    "        if b_hi_column_names[ _ ] not in o_hi_column_names:\n",
    "            # add name to 2000 only list\n",
    "            hi_b_only.append( b_hi_column_names[ _ ] )\n",
    "        # column name found at this index in 2000 df is not a column name in 2010 df \n",
    "        if o_hi_column_names[ _ ] not in b_hi_column_names:\n",
    "            # add name to 2000 only list\n",
    "            hi_o_only.append( o_hi_column_names[ _ ] )\n",
    "        else:\n",
    "            hi_both.append([b_hi_column_names[ _ ],o_hi_column_names[ _ ]])\n",
    "            \n",
    "    print(f'hi\\nboth = {len(hi_both)}\\n2000 but not 2010 = {len(hi_b_only)}\\n2010 but not 2000 = {len(hi_o_only)}')\n",
    "\n",
    "\n",
    "'''commonly understandable column names\n",
    "    >> e.g. Number - Female; Total population, Males per 100 females; Total population - Medi...'''\n",
    "# 2000 translated column names (current row 0)\n",
    "b_lo_column_names = [ name for name in bush.iloc[ 0 ] ]\n",
    "# 2010 translated column names (current row 0)\n",
    "o_lo_column_names = [ name for name in obama.iloc[ 0 ] ]\n",
    "# number of names are same \n",
    "if len( b_lo_column_names ) == len( o_lo_column_names ):\n",
    "    # keep track of names that exist in both data\n",
    "    lo_both = []   \n",
    "    # keep track of 2000 names that do not exist in 2010 data\n",
    "    lo_b_only = []\n",
    "    # keep track of 2010 names that do not exist in 2000 data\n",
    "    lo_o_only = []\n",
    "    # index length\n",
    "    for _ in range( len( b_lo_column_names ) ):\n",
    "        # column name found at this index in 2000 df is not a column name in 2010 df \n",
    "        if b_lo_column_names[ _ ] not in o_lo_column_names:\n",
    "            # add name to 2000 only list\n",
    "            lo_b_only.append( b_lo_column_names[ _ ] )\n",
    "        # column name found at this index in 2000 df is not a column name in 2010 df \n",
    "        if o_lo_column_names[ _ ] not in b_lo_column_names:\n",
    "            # add name to 2000 only list\n",
    "            lo_o_only.append( o_lo_column_names[ _ ] )\n",
    "        else:\n",
    "            lo_both.append([b_lo_column_names[ _ ],o_lo_column_names[ _ ]])\n",
    "            \n",
    "    print(f'lo\\nboth = {len(lo_both)}\\n2000 but not 2010 = {len(lo_b_only)}\\n2010 but not 2000 = {len(lo_o_only)}')\n",
    "\n",
    "\n",
    "'''first row of numbered data \n",
    "    >> e.g. 18570, 100.0'''\n",
    "# 2000 0th row of data (current row 1)\n",
    "b_0th_real = [ name for name in bush.iloc[ 1 ] ]\n",
    "# 2010 0th row of data (current row 1)\n",
    "o_0th_real = [ name for name in obama.iloc[ 1 ] ]\n",
    "\n",
    "# number of names are same \n",
    "if len( b_0th_real ) == len( o_0th_real ):\n",
    "    # keep track of names that exist in both data\n",
    "    both_0th = []   \n",
    "    # keep track of 2000 names that do not exist in 2010 data\n",
    "    b_only_0th = []\n",
    "    # keep track of 2010 names that do not exist in 2000 data\n",
    "    o_only_0th = []\n",
    "    # index length\n",
    "    for _ in range( len( b_0th_real ) ):\n",
    "        # column name found at this index in 2000 df is not a column name in 2010 df \n",
    "        if b_0th_real[ _ ] not in o_0th_real:\n",
    "            # add name to 2000 only list\n",
    "            b_only_0th.append( b_0th_real[ _ ] )\n",
    "        # column name found at this index in 2000 df is not a column name in 2010 df \n",
    "        if o_0th_real[ _ ] not in b_0th_real:\n",
    "            # add name to 2000 only list\n",
    "            o_only_0th.append( o_0th_real[ _ ] )\n",
    "        else:\n",
    "            both_0th.append([b_0th_real[ _ ],o_0th_real[ _ ]])\n",
    "            \n",
    "    print(f'data\\nboth = {len(both_0th)}\\n2000 but not 2010 = {len(b_only_0th)}\\n2010 but not 2000 = {len(o_only_0th)}')"
   ]
  },
  {
   "cell_type": "markdown",
   "metadata": {},
   "source": [
    "- ***notes***:\n",
    "    - while the high level labels don't seem to coexist \n",
    "        - any actual column name in 2000 is seen in 2010 and vise verse\n",
    "    - under 1/3 \n",
    "        - of values seen in the first row of data for either the d2000 or the 2010 datasets\n",
    "            - are seen in that same row on the other dataset \n",
    "- ***actions***:\n",
    "    - repeat the tests but check for correcponding index instead of coexistance "
   ]
  },
  {
   "cell_type": "code",
   "execution_count": null,
   "metadata": {},
   "outputs": [],
   "source": [
    "# compare on index \n",
    "\n",
    "'''coded column names \n",
    "    >> e.g. SUBHD0103_S01, HD03_S41'''\n",
    "# 2000 high-level column names (current exists before row 0 )\n",
    "b_hi_column_names = [ name for name in bush.columns.values ]\n",
    "# 2010 high-level column names (current exists before row 0 )\n",
    "o_hi_column_names = [ name for name in obama.columns.values ]\n",
    "\n",
    "# number of names are same \n",
    "if len( b_hi_column_names ) == len( o_hi_column_names ):\n",
    "    # values that are same \n",
    "    same_hi = []   \n",
    "    # values that are not the same\n",
    "    not_the_hi = []\n",
    "    # index length\n",
    "    for _ in range( len( b_hi_column_names ) ):\n",
    "        # object found at this index in 2000 is not same object at this index in 2010\n",
    "        if b_hi_column_names[ _ ] != o_hi_column_names[ _ ]:\n",
    "            # add name to 2000 only list\n",
    "            not_the_hi.append( [ _ , b_hi_column_names[ _ ] , o_hi_column_names[ _ ] ] )\n",
    "        else:\n",
    "            same_hi.append( [ _ , b_hi_column_names[ _ ] , o_hi_column_names[ _ ] ] )\n",
    "            \n",
    "    print(f'hi level\\nboth the same = {len(same_hi)}\\nnot the same = {len(not_the_hi)}')\n",
    "    \n",
    "\n",
    "'''commonly understandable column names\n",
    "    >> e.g. Number - Female; Total population, Males per 100 females; Total population - Medi...'''\n",
    "# 2000 translated column names (current row 0)\n",
    "b_lo_column_names = [ name for name in bush.iloc[ 0 ] ]\n",
    "# 2010 translated column names (current row 0)\n",
    "o_lo_column_names = [ name for name in obama.iloc[ 0 ] ]\n",
    "# number of names are same \n",
    "if len( b_lo_column_names ) == len( o_lo_column_names ):\n",
    "    # values that are same \n",
    "    same_lo = []   \n",
    "    # values that are not the same\n",
    "    not_the_lo = []\n",
    "    # index length\n",
    "    for _ in range( len( b_lo_column_names ) ):\n",
    "        # object found at this index in 2000 is not same object at this index in 2010\n",
    "        if b_lo_column_names[ _ ] != o_lo_column_names[ _ ]:\n",
    "            # add name to 2000 only list\n",
    "            not_the_lo.append( [ _ , b_lo_column_names[ _ ] , o_lo_column_names[ _ ] ] )\n",
    "        else:\n",
    "            same_lo.append( [ _ , b_lo_column_names[ _ ] , o_lo_column_names[ _ ] ] )\n",
    "            \n",
    "    print(f'common\\nboth the same = {len(same_lo)}\\nnot the same = {len(not_the_lo)}')\n",
    "\n",
    "'''first row of numbered data \n",
    "    >> e.g. 18570, 100.0'''\n",
    "# 2000 0th row of data (current row 1)\n",
    "b_0th_real = [ name for name in bush.iloc[ 1 ] ]\n",
    "# 2010 0th row of data (current row 1)\n",
    "o_0th_real = [ name for name in obama.iloc[ 1 ] ]\n",
    "\n",
    "# number of names are same \n",
    "if len( b_0th_real ) == len( o_0th_real ):\n",
    "    # values that are same \n",
    "    same_0th = []   \n",
    "    # values that are not the same\n",
    "    not_the_0th = []\n",
    "    # index length\n",
    "    for _ in range( len( b_0th_real ) ):\n",
    "        # object found at this index in 2000 is not same object at this index in 2010\n",
    "        if o_0th_real[ _ ] != b_0th_real[ _ ]:\n",
    "            # add name to 2000 only list\n",
    "            not_the_0th.append( [ _ , b_0th_real[ _ ] , o_0th_real[ _ ] ] )\n",
    "        else:\n",
    "            same_0th.append( [ _ , b_0th_real[ _ ] , o_0th_real[ _ ] ] )\n",
    "            \n",
    "    print(f'data\\nboth the same = {len(same_0th)}\\nnot the same = {len(not_the_0th)}')"
   ]
  },
  {
   "cell_type": "markdown",
   "metadata": {},
   "source": [
    "- ***notes***:\n",
    "    - hi level\n",
    "        - first 3 are the same\n",
    "            - as expected\n",
    "    - commonly understandable column names\n",
    "        - perfect match\n",
    "            - as expected\n",
    "    - first row of data\n",
    "        - less than 4.5% the same\n",
    "            - about 85% fewer occourances than when testing existance of same instance in other df\n",
    "        - good\n",
    "- ***actions***:\n",
    "    - set column names to commonly understandable column names\n",
    "    - visualize change from 2000 to 2010"
   ]
  },
  {
   "cell_type": "code",
   "execution_count": null,
   "metadata": {},
   "outputs": [],
   "source": [
    "# copy dataframes\n",
    "# 2000 Census\n",
    "b = bush.copy()\n",
    "# 2010 Census\n",
    "o = obama.copy()\n",
    "\n",
    "# reset 2000 columns to current 0th row values\n",
    "b.columns = b.iloc[0]\n",
    "# new 2000 dataframe without row where values are from\n",
    "b = b[1:]\n",
    "\n",
    "# reset 2010 columns to current 0th row values\n",
    "o.columns = o.iloc[0]\n",
    "# new 2010 dataframe without row where values are from\n",
    "o = o[1:]"
   ]
  },
  {
   "cell_type": "markdown",
   "metadata": {},
   "source": [
    "- ***actions***:\n",
    "    - find commonalities to compare by\n",
    "        - Id , Id2 , Geography\n",
    "            - seem to be good possibilities"
   ]
  },
  {
   "cell_type": "code",
   "execution_count": null,
   "metadata": {},
   "outputs": [],
   "source": [
    "try_these = [ 'Id' , 'Id2' , 'Geography' ]\n",
    "\n",
    "for column_name in try_these:\n",
    "    print(column_name)\n",
    "    same = []\n",
    "    diff = []\n",
    "    # len 2000 is 58 more than len 2010 \n",
    "    for _ in range( 1 , len( b[ column_name ] )-58 ):\n",
    "        if b[ column_name ][ _ ] == o[ column_name ][ _ ]:\n",
    "            same.append( [_,b[ column_name ][ _ ],o[ column_name ][ _ ]] )\n",
    "        else:\n",
    "            diff.append( [_,b[ column_name ][ _ ],o[ column_name ][ _ ]] )\n",
    "    print(f'same = {len(same)}\\ndiff = {len(diff)}')\n",
    "    i_same = [ instance.pop(0) for instance in same ] \n",
    "    # print(i_same)"
   ]
  },
  {
   "cell_type": "code",
   "execution_count": null,
   "metadata": {},
   "outputs": [],
   "source": [
    "# 3 lists just output\n",
    "by_id = [1, 2, 3, 44, 88, 89, 90, 19635, 19637, 19638, 19639, 19640, 19641, 19642, 19643, 19644, 19645, 19646, 19647, 19648, 19649, 19650, 19651, 19652, 19653, 19743, 19744, 20642, 20643, 20644, 20645, 20646, 20647, 20648, 20649, 20650, 20651, 20652, 20653, 20654, 20655, 20656, 20657, 20658, 20659, 20812, 20813, 20814, 20815, 20816, 20817, 20818, 20819, 20820, 20821, 20822, 20823, 20824, 20825, 20826, 20827, 20828, 20893, 20894, 20895, 20896, 20897, 20898, 20899, 20900, 20901, 20902, 20903, 20904, 20905, 20906, 20907, 20908, 20992, 20993, 20994, 20995, 20996, 20997, 20998, 20999, 21000, 21001, 21002, 21003, 21004, 21005, 21006, 21007, 21008, 21009, 21010, 21011, 21012, 21013, 21014, 21064, 21065, 21066, 21067, 21068, 21069, 21070, 21071, 21072, 21073, 21074, 21075, 21076, 21077, 21078, 21079, 21080, 21081, 21082, 21083, 21084, 21085, 21086, 21087, 21088, 21089, 21090, 21091, 21092, 21093, 21094, 21523, 21524, 21778, 21779, 21780, 21781, 21782, 21783, 21784, 21785, 21786, 21787, 21788, 21789, 21790, 21791, 21792, 21793, 21794, 21839, 21840, 22138, 22146, 22147, 22148, 22149, 22150, 22151, 22152, 22225, 22226, 22227, 22228]\n",
    "by_id2 = [1, 2, 3, 44, 88, 89, 90, 19635, 19637, 19638, 19639, 19640, 19641, 19642, 19643, 19644, 19645, 19646, 19647, 19648, 19649, 19650, 19651, 19652, 19653, 19743, 19744, 20642, 20643, 20644, 20645, 20646, 20647, 20648, 20649, 20650, 20651, 20652, 20653, 20654, 20655, 20656, 20657, 20658, 20659, 20812, 20813, 20814, 20815, 20816, 20817, 20818, 20819, 20820, 20821, 20822, 20823, 20824, 20825, 20826, 20827, 20828, 20893, 20894, 20895, 20896, 20897, 20898, 20899, 20900, 20901, 20902, 20903, 20904, 20905, 20906, 20907, 20908, 20992, 20993, 20994, 20995, 20996, 20997, 20998, 20999, 21000, 21001, 21002, 21003, 21004, 21005, 21006, 21007, 21008, 21009, 21010, 21011, 21012, 21013, 21014, 21064, 21065, 21066, 21067, 21068, 21069, 21070, 21071, 21072, 21073, 21074, 21075, 21076, 21077, 21078, 21079, 21080, 21081, 21082, 21083, 21084, 21085, 21086, 21087, 21088, 21089, 21090, 21091, 21092, 21093, 21094, 21523, 21524, 21778, 21779, 21780, 21781, 21782, 21783, 21784, 21785, 21786, 21787, 21788, 21789, 21790, 21791, 21792, 21793, 21794, 21839, 21840, 22138, 22146, 22147, 22148, 22149, 22150, 22151, 22152, 22225, 22226, 22227, 22228]\n",
    "by_geo = [1, 2, 3, 44, 88, 89, 90, 19635, 19637, 19638, 19639, 19640, 19641, 19642, 19643, 19644, 19645, 19646, 19647, 19648, 19649, 19650, 19651, 19652, 19653, 19743, 19744, 20642, 20643, 20644, 20645, 20646, 20647, 20648, 20649, 20650, 20651, 20652, 20653, 20654, 20655, 20656, 20657, 20658, 20659, 20812, 20813, 20814, 20815, 20816, 20817, 20818, 20819, 20820, 20821, 20822, 20823, 20824, 20825, 20826, 20827, 20828, 20893, 20894, 20895, 20896, 20897, 20898, 20899, 20900, 20901, 20902, 20903, 20904, 20905, 20906, 20907, 20908, 20992, 20993, 20994, 20995, 20996, 20997, 20998, 20999, 21000, 21001, 21002, 21003, 21004, 21005, 21006, 21007, 21008, 21009, 21010, 21011, 21012, 21013, 21014, 21064, 21065, 21066, 21067, 21068, 21069, 21070, 21071, 21072, 21073, 21074, 21075, 21076, 21077, 21078, 21079, 21080, 21081, 21082, 21083, 21084, 21085, 21086, 21087, 21088, 21089, 21090, 21091, 21092, 21093, 21094, 21523, 21524, 21778, 21779, 21780, 21781, 21782, 21783, 21784, 21785, 21786, 21787, 21788, 21789, 21790, 21791, 21792, 21793, 21794, 21839, 21840, 22138, 22146, 22147, 22148, 22149, 22150, 22151, 22152, 22225, 22226, 22227, 22228]\n",
    "\n",
    "# these lists are the same\n",
    "if not by_id == by_id2 == by_geo:\n",
    "    raise Exception('FALSE == by_id == by_id2 == by_geo == False')\n",
    "\n",
    "# and for those 3 columns* every index value in any list is the same in 2000 and 2010 *(Id, Id2, Geography)\n",
    "for i in [ by_id , by_id2 , by_geo ]:\n",
    "    for _ in i:\n",
    "        # compare Id values\n",
    "        if b.Id[_] != o.Id[_]:\n",
    "            # if any don't match 2000 vs 2010\n",
    "            raise Exception(f'b.Id[_] != o.Id[_]\\n{b.Id[_]} != {o.Id[_]}')\n",
    "        # compare Id2 values\n",
    "        if b.Id2[_] != o.Id2[_]:\n",
    "            # if any don't match 2000 vs 2010\n",
    "            raise Exception(f'b.Id2[_] != o.Id2[_]\\n{b.Id2[_]} != {o.Id2[_]}')\n",
    "        # compare Geography values\n",
    "        if b.Geography[_] != o.Geography[_]:\n",
    "            # if any don't match 2000 vs 2010\n",
    "            raise Exception(f'b.Geography[_] != o.Geography[_]\\n{b.Geography[_]} != {o.Geography[_]}')\n"
   ]
  },
  {
   "cell_type": "markdown",
   "metadata": {},
   "source": [
    "- ***notes***:\n",
    "    - why are these values the same?\n",
    "    - what do they mean/represent?\n",
    "- ***actions***:\n",
    "    - answer above"
   ]
  },
  {
   "cell_type": "code",
   "execution_count": null,
   "metadata": {},
   "outputs": [],
   "source": [
    "len(o.Geography)"
   ]
  },
  {
   "cell_type": "code",
   "execution_count": null,
   "metadata": {},
   "outputs": [],
   "source": [
    "last_5_2000_geo = [ b.Geography[_][-5:] for _ in range( 1 , len(b.Geography)+1) ]\n",
    "last_5_2010_geo = [ o.Geography[_][-5:] for _ in range( 1 , len(o.Geography)+1) ]\n",
    "\n",
    "# note the index patterns\n",
    "if b.Geography[33113][-5:] == last_5_2000_geo[33112] == o.Geography[33062][-5:] == last_5_2010_geo[33061]:\n",
    "    pass\n",
    "    if b.Geography[33114][-5:] == last_5_2000_geo[33113] == o.Geography[33063][-5:] == last_5_2010_geo[33062]:\n",
    "        pass\n",
    "        if b.Geography[33110][-5:] == last_5_2000_geo[33109] == o.Geography[33059][-5:] == last_5_2010_geo[33058]:\n",
    "            pass\n",
    "        else:\n",
    "            raise Exception('ERROR2')\n",
    "    else:\n",
    "        raise Exception('ERROR1')\n",
    "else:\n",
    "    raise Exception('ERROR')"
   ]
  },
  {
   "cell_type": "code",
   "execution_count": null,
   "metadata": {},
   "outputs": [],
   "source": [
    "# each 5 digit code from end of each row in 2010 'Geography'\n",
    "bgeo = [ _[-5:] for _ in b.Geography ]\n",
    "\n",
    "# number of coexisting instances\n",
    "x=0\n",
    "# collect coexisting instances\n",
    "collect_locs = []\n",
    "# collect unique coexisting instances\n",
    "uni_col_locs = set() \n",
    "# len 2010 is -58 vs len 2000 \n",
    "for _ in range(1,len(o.Geography)):\n",
    "    # 5 digit code is in 2010 collection \n",
    "    if o.Geography[_][-5:] in bgeo:\n",
    "        # tag it\n",
    "        x += 1\n",
    "        # bag it\n",
    "        collect_locs.append(o.Geography[_][-5:])\n",
    "        uni_col_locs.add(o.Geography[_][-5:])\n",
    "\n",
    "\n",
    "# number of coexisting , size of that list , number of unique , len 2000 vs 2010\n",
    "x , len(collect_locs) , len(list(uni_col_locs)) , len(b.Geography) - len(o.Geography)"
   ]
  },
  {
   "cell_type": "markdown",
   "metadata": {},
   "source": [
    "- ***notes***:\n",
    "    - ok, this is large\n",
    "        - readings credit\n",
    "            - did a few pages of this https://www.census.gov/prod/cen2000/doc/sf1.pdf \n",
    "                - 494-497 + skim \n",
    "            - followed by https://www.quora.com/U-S-Census-Bureau-How-does-Zip-Code-Tabulation-Area-is-created \n",
    "    - in short,\n",
    "        - the US Census Bureau doesn't strictly use postal zip code when determining 5-digit zip\n",
    "            - leave out some very small zips\n",
    "            - made zips for large bodies of water and land which did not have zip codes\n",
    "                - this was done in 2000 and not done in 2010\n",
    "    - what we've found:\n",
    "        - all 5 digit codes (found at end of each object) in 2010 'Geography' column \n",
    "            - are seen at the end of an object in the 2000 'Geograpy' column \n",
    "- ***actions***:\n",
    "    - drop columns where 5-digit is not seen\n",
    "        - see if df is then ready for straight compare"
   ]
  },
  {
   "cell_type": "code",
   "execution_count": null,
   "metadata": {},
   "outputs": [],
   "source": [
    "# identify zip codes from 2000 .Geography (last 5 chars of string)\n",
    "zip_2000_codes = [q[-5:] for q in b.Geography]  # ValueError: invalid literal for int() with base 10: '006HH'\n",
    "# identify zip codes from 2010 .Geography (last 5 chars of string)\n",
    "zip_2010_codes = [q[-5:] for q in o.Geography]\n",
    "\n",
    "# from 2000.Geography , instance is not seen in 2010.Geography  -- sample: zip_code = (2, 'c')\n",
    "in_2000_but_not_2010_from_2000 = [zip_code for zip_code in enumerate(zip_2000_codes) if zip_code[1] not in zip_2010_codes]\n",
    "# from 2010.Geography , instance is not seen in 2000.Geography  -- sample: zip_code[1] = 'c'\n",
    "in_2010_but_not_2000_from_2010 = [zip_code for zip_code in enumerate(zip_2010_codes) if zip_code[1] not in zip_2000_codes]\n",
    "\n",
    "# from 2000.Geography , instance is seen in 2010.Geography\n",
    "in_2000_and_2010_from_2000 = [zip_code for zip_code in enumerate(zip_2000_codes) if zip_code[1] in zip_2010_codes]\n",
    "# from 2010.Geography , instance is seen in 2000.Geography\n",
    "in_2010_and_2000_from_2010 = [zip_code for zip_code in enumerate(zip_2010_codes) if zip_code[1] in zip_2000_codes]"
   ]
  },
  {
   "cell_type": "code",
   "execution_count": null,
   "metadata": {},
   "outputs": [],
   "source": [
    "len(in_2010_but_not_2000_from_2010)"
   ]
  },
  {
   "cell_type": "code",
   "execution_count": null,
   "metadata": {},
   "outputs": [],
   "source": [
    "'''\n",
    "len(in_2000_but_not_2010_from_2000) = 1800\n",
    "len(in_2010_but_not_2000_from_2010) = 1742\n",
    "len(in_2000_and_2010_from_2000) = 31378\n",
    "len(in_2010_and_2000_from_2010) = 31378'''\n",
    "print(f'len(in_2000_but_not_2010_from_2000) = {len(in_2000_but_not_2010_from_2000)}\\nlen(in_2010_but_not_2000_from_2010) = {len(in_2010_but_not_2000_from_2010)}\\nlen(in_2000_and_2010_from_2000) = {len(in_2000_and_2010_from_2000)}\\nlen(in_2010_and_2000_from_2010) = {len(in_2010_and_2000_from_2010)}')"
   ]
  },
  {
   "cell_type": "markdown",
   "metadata": {},
   "source": [
    "- ***notes***:\n",
    "    - len(in_2000_and_2010_from_2000) == len(in_2010_and_2000_from_2010) == 31378\n",
    "        - big relief \n",
    "- ***actions***:\n",
    "    - convert 2010 and 2000 dataframes based on shared values in .Geography \n",
    "        - and\n",
    "            - drop 'ZCTA5' form 'Geography' rows\n",
    "            - check that in_2000_but_not_2010_from_2000 doesn't share with in_2010_but_not_2000_from_2010\n",
    "        - potential issues\n",
    "            - same 5-digit zip code is not actually same place\n",
    "        - solutions\n",
    "            - any changes of this sort have been documented\n",
    "                - review prior readings on overview\n",
    "    - below before editing df is confirming assumptions and provinding evidence for df editing strats"
   ]
  },
  {
   "cell_type": "code",
   "execution_count": null,
   "metadata": {},
   "outputs": [],
   "source": [
    "for _ in in_2000_but_not_2010_from_2000:\n",
    "    if _ in in_2010_but_not_2000_from_2010:\n",
    "        raise Exception(f'{_} in in_2010_but_not_2000_from_2010')\n",
    "for _ in in_2010_but_not_2000_from_2010:\n",
    "    if _ in in_2000_but_not_2010_from_2000:\n",
    "        raise Exception(f'{_} in in_2000_but_not_2010_from_2000')"
   ]
  },
  {
   "cell_type": "code",
   "execution_count": null,
   "metadata": {},
   "outputs": [],
   "source": [
    "lettered = []\n",
    "no_letters = []\n",
    "for _ in in_2000_but_not_2010_from_2000:\n",
    "    if isinstance(_[1],str):\n",
    "        if 'X' in _[1] or 'H' in _[1]:\n",
    "            lettered.append(_)\n",
    "        elif 'X' not in _[1] and 'H' not in _[1]:\n",
    "            no_letters.append(int(_[1]))\n",
    "        else:\n",
    "            raise Exception(type(_[1]),_[1])\n",
    "    else:\n",
    "        raise Exception(f'NON STR INSTANCE , {type(_[1])}')\n",
    "\n",
    "for _ in lettered:\n",
    "    if _ in in_2010_but_not_2000_from_2010:\n",
    "        raise Exception(_)\n",
    "\n",
    "for _ in no_letters:\n",
    "    if _ in in_2010_but_not_2000_from_2010:\n",
    "        raise Exception(_)"
   ]
  },
  {
   "cell_type": "code",
   "execution_count": null,
   "metadata": {},
   "outputs": [],
   "source": [
    "print(f'lettered = {len(lettered)}\\nno_letters = {len(no_letters)}')"
   ]
  },
  {
   "cell_type": "code",
   "execution_count": null,
   "metadata": {},
   "outputs": [],
   "source": [
    "lettered2 = []\n",
    "no_letters2 = []\n",
    "for _ in in_2010_but_not_2000_from_2010:\n",
    "    if isinstance(_[1],str):\n",
    "        if 'X' in _[1] or 'H' in _[1]:\n",
    "            lettered2.append(_)\n",
    "        elif 'X' not in _[1] and 'H' not in _[1]:\n",
    "            no_letters2.append(int(_[1]))\n",
    "        else:\n",
    "            raise Exception(_[1])\n",
    "    else:\n",
    "        raise Exception(f'NON STR INSTANCE , {type(_[1])}')"
   ]
  },
  {
   "cell_type": "code",
   "execution_count": null,
   "metadata": {},
   "outputs": [],
   "source": [
    "print(f'lettered = {len(lettered)}\\nlettered2 = {len(lettered2)}\\nno_letters = {len(no_letters)}\\nno_letters2 = {len(no_letters2)}')"
   ]
  },
  {
   "cell_type": "code",
   "execution_count": null,
   "metadata": {},
   "outputs": [],
   "source": [
    "\"\"\"in_2010_but_not_2000_from_2010 and in_2000_but_not_2010_from_2000 are completely different\"\"\" \n",
    "\n",
    "# 2010_not_2000 vs 2000_not_2010\n",
    "for _ in in_2010_but_not_2000_from_2010:\n",
    "    if _ in in_2000_but_not_2010_from_2000:\n",
    "        raise Exception(f'in_2010_but_not_2000_from_2010 {_}')\n",
    "\n",
    "# 2000_not_2010 vs 2010_not_2000\n",
    "for _ in in_2000_but_not_2010_from_2000:\n",
    "    if _ in in_2010_but_not_2000_from_2010:\n",
    "        raise Exception(f'in_2010_but_not_2000_from_2010 {_}')"
   ]
  },
  {
   "cell_type": "code",
   "execution_count": null,
   "metadata": {},
   "outputs": [],
   "source": [
    "for _ in range(len(in_2010_and_2000_from_2010)):\n",
    "    if in_2010_and_2000_from_2010[_][1] != in_2000_and_2010_from_2000[_][1]:\n",
    "        # note: i (for i,j) are not same \n",
    "        # in_2010_and_2000_from_2010[3] = (3, '00606')\n",
    "        # in_2000_and_2010_from_2000[3] = (4, '00606')\n",
    "        # in_2010_and_2000_from_2010[0] = (0, '00601')\n",
    "        # in_2000_and_2010_from_2000[0] = (0, '00601')\n",
    "        raise Exception(f'{in_2010_and_2000_from_2010[_]}\\n!= ERROR != ERROR !=\\n{in_2000_and_2010_from_2000[_]}')"
   ]
  },
  {
   "cell_type": "markdown",
   "metadata": {},
   "source": [
    "- ***note***:\n",
    "    - error pointed about above comments\n",
    "- ***action***:\n",
    "    - when dropping column by index, use i (for i,j) coming from that year's df "
   ]
  },
  {
   "cell_type": "code",
   "execution_count": null,
   "metadata": {},
   "outputs": [],
   "source": [
    "# index of objects coexisting in 2000 and 2010\n",
    "of_2000_indexes = [i for i,j in in_2000_and_2010_from_2000]\n",
    "# index of objects coexisting in 2010 and 2000 \n",
    "of_2010_indexes = [i for i,j in in_2010_and_2000_from_2010]\n",
    "# ^note: these are different lists, if took j instead of i, then would be same list\n",
    "if [j for i,j in in_2000_and_2010_from_2000] != [j for i,j in in_2010_and_2000_from_2010]:\n",
    "    # like is seen here, j for j == True\n",
    "    raise Exception('FLAWED ASSUMPTION')\n",
    "# however i for i == False\n",
    "if of_2000_indexes == of_2010_indexes:\n",
    "    # cheers\n",
    "    raise Exception('FLAWED ASSUMPTION')    "
   ]
  },
  {
   "cell_type": "code",
   "execution_count": null,
   "metadata": {},
   "outputs": [],
   "source": [
    "# set 2000 \n",
    "__b__ = b.copy()\n",
    "# set 2010\n",
    "__o__ = o.copy()"
   ]
  },
  {
   "cell_type": "code",
   "execution_count": null,
   "metadata": {},
   "outputs": [],
   "source": []
  },
  {
   "cell_type": "code",
   "execution_count": null,
   "metadata": {},
   "outputs": [],
   "source": [
    "common_geo_values = [j for i,j in in_2010_and_2000_from_2010]"
   ]
  },
  {
   "cell_type": "markdown",
   "metadata": {},
   "source": [
    "- ***action***:\n",
    "    - using common_geo_values\n",
    "        - compare values from one table to the next\n",
    "            - works as table is set time\n",
    "            - leaves \n",
    "                - 1742 unused 2010 rows\n",
    "                - 1800 unused 2000 rows"
   ]
  },
  {
   "cell_type": "code",
   "execution_count": null,
   "metadata": {},
   "outputs": [],
   "source": [
    "# 2000 Census\n",
    "b = bush.copy()\n",
    "# 2010 Census\n",
    "o = obama.copy()\n",
    "\n",
    "# reset 2000 columns to current 0th row values\n",
    "b.columns = b.iloc[0]\n",
    "# new 2000 dataframe without row where values are from\n",
    "b = b[1:]\n",
    "\n",
    "# reset 2010 columns to current 0th row values\n",
    "o.columns = o.iloc[0]\n",
    "# new 2010 dataframe without row where values are from\n",
    "o = o[1:]"
   ]
  },
  {
   "cell_type": "code",
   "execution_count": null,
   "metadata": {},
   "outputs": [],
   "source": [
    "'''but of course, the whole time we should have just called the list'''\n",
    "\n",
    "# for geo_value in common_geo_values:\n",
    "twenty_ten = b.copy().set_index(b.Geography)\n",
    "# b.iloc[0:3]\n",
    "b = b.iloc[of_2000_indexes]\n",
    "o = o.iloc[of_2010_indexes]"
   ]
  },
  {
   "cell_type": "code",
   "execution_count": null,
   "metadata": {},
   "outputs": [],
   "source": [
    "b = b.reset_index()\n",
    "o = o.reset_index()"
   ]
  },
  {
   "cell_type": "code",
   "execution_count": null,
   "metadata": {},
   "outputs": [],
   "source": [
    "b.head()"
   ]
  },
  {
   "cell_type": "code",
   "execution_count": null,
   "metadata": {},
   "outputs": [],
   "source": [
    "o.head()"
   ]
  },
  {
   "cell_type": "code",
   "execution_count": null,
   "metadata": {},
   "outputs": [],
   "source": [
    "for _ in range(1,len(b)):\n",
    "    if b.Id2[_] != o.Id2[_]:\n",
    "        print(b.Id2[_],o.Id2[_])\n"
   ]
  },
  {
   "cell_type": "code",
   "execution_count": null,
   "metadata": {},
   "outputs": [],
   "source": [
    "len(__b__.Geography), len(__o__.Geography),len(__b__.Geography)- len(__o__.Geography)"
   ]
  },
  {
   "cell_type": "code",
   "execution_count": null,
   "metadata": {},
   "outputs": [],
   "source": [
    "len(b.Geography), len(o.Geography)"
   ]
  },
  {
   "cell_type": "code",
   "execution_count": null,
   "metadata": {},
   "outputs": [],
   "source": []
  },
  {
   "cell_type": "code",
   "execution_count": null,
   "metadata": {},
   "outputs": [],
   "source": [
    "'''split'''\n",
    "# # label objects in 2000.Geography with their index\n",
    "# nume_b_geo = enumerate(b.Geography)\n",
    "# # label objects in 2010.Geography with their index\n",
    "# nume_b_geo = enumerate(o.Geography)\n",
    "\n",
    "# # identify codes occouring in 2000 and not 2010\n",
    "# [i for (i,_) in nume_b_geo if _[-5:] not in zip_2010_codes]\n",
    "\n",
    "# # index and instance for all 2000 Census 'Geography' rows \n",
    "# # if the zip code (last 5 digits) is NOT in the collection of 2010 Census zip codes \n",
    "# # drop row index from the 2000 Census \n",
    "# # ready_b = b.copy().Geography.drop([i for (i,_) in nume_b_geo if _[-5:] not in zip_2010_codes])\n",
    "# ready_b = b.copy().drop()\n",
    "pass"
   ]
  },
  {
   "cell_type": "code",
   "execution_count": null,
   "metadata": {},
   "outputs": [],
   "source": [
    "\n",
    "\n",
    "for i in enumerate(['a','b','c','d','e','f']):\n",
    "    print(i)"
   ]
  },
  {
   "cell_type": "code",
   "execution_count": 1,
   "metadata": {},
   "outputs": [],
   "source": [
    "# master py file\n",
    "import time\n",
    "import numpy as np\n",
    "import pandas as pd\n",
    "\n",
    "def convert(a='../data/2000/age-groups-and-sex-census-DEC_00_SF1_QTP1/DEC_00_SF1_QTP1_with_ann.csv',\n",
    "           b='../data/2010/age-groups-and-sex-census-DEC_10_SF1_QTP1/DEC_10_SF1_QTP1_with_ann.csv'):\n",
    "    # load 2000 data\n",
    "    y2k = pd.read_csv( a , low_memory=False )\n",
    "    # load 2010 data\n",
    "    y2k10 = pd.read_csv( b , low_memory=False )\n",
    "\n",
    "    # 2000 Census\n",
    "    b = y2k.copy()\n",
    "    # 2010 Census\n",
    "    o = y2k10.copy()\n",
    "\n",
    "    # reset 2000 columns to current 0th row values\n",
    "    b.columns = b.iloc[0]\n",
    "    # new 2000 dataframe without row where values are from\n",
    "    b = b[1:]\n",
    "    # reset index\n",
    "    b = b.reset_index()\n",
    "\n",
    "    # reset 2010 columns to current 0th row values\n",
    "    o.columns = o.iloc[0]\n",
    "    # new 2010 dataframe without row where values are from\n",
    "    o = o[1:]\n",
    "    # reset index\n",
    "    o = o.reset_index()\n",
    "\n",
    "    # identify zip codes from 2000 .Geography (last 5 chars of string)\n",
    "    zip_2000_codes = [q[-5:] for q in b.Geography]  # ValueError: invalid literal for int() with base 10: '006HH'\n",
    "    # identify zip codes from 2010 .Geography (last 5 chars of string)\n",
    "    zip_2010_codes = [q[-5:] for q in o.Geography]\n",
    "\n",
    "    # from 2000.Geography , instance is not seen in 2010.Geography  -- sample: zip_code = (2, 'c')\n",
    "    in_2000_but_not_2010_from_2000 = [zip_code for zip_code in enumerate(zip_2000_codes) if zip_code[1] not in zip_2010_codes]\n",
    "    # from 2010.Geography , instance is not seen in 2000.Geography  -- sample: zip_code[1] = 'c'\n",
    "    in_2010_but_not_2000_from_2010 = [zip_code for zip_code in enumerate(zip_2010_codes) if zip_code[1] not in zip_2000_codes]\n",
    "\n",
    "    # from 2000.Geography , instance is seen in 2010.Geography\n",
    "    in_2000_and_2010_from_2000 = [zip_code for zip_code in enumerate(zip_2000_codes) if zip_code[1] in zip_2010_codes]\n",
    "    # from 2010.Geography , instance is seen in 2000.Geography\n",
    "    in_2010_and_2000_from_2010 = [zip_code for zip_code in enumerate(zip_2010_codes) if zip_code[1] in zip_2000_codes]\n",
    "\n",
    "    # index of objects coexisting in 2000 and 2010\n",
    "    of_2000_indexes = [i for i,j in in_2000_and_2010_from_2000]\n",
    "    # index of objects coexisting in 2010 and 2000 \n",
    "    of_2010_indexes = [i for i,j in in_2010_and_2000_from_2010]\n",
    "    # ^note: these are different lists, if took j instead of i, then would be same list\n",
    "    if [j for i,j in in_2000_and_2010_from_2000] != [j for i,j in in_2010_and_2000_from_2010]:\n",
    "        # like is seen here, j for j == True\n",
    "        raise Exception(f'FLAWED ASSUMPTION , [j for i,j in 2000] != [j for i,j in 2010]\\n'\n",
    "                        f'len {len(in_2000_and_2010_from_2000)} {len(in_2010_and_2000_from_2010)}')\n",
    "    # however i for i == False\n",
    "    if of_2000_indexes == of_2010_indexes:\n",
    "        # cheers\n",
    "        raise Exception('FLAWED ASSUMPTION , of_2000_indexes != of_2010_indexes\\n'\n",
    "                        f'len y2k {len(of_2000_indexes)} 2k10 {len(of_2010_indexes)}')  \n",
    "\n",
    "    # thin 2000 to shared geo\n",
    "    b = b.iloc[of_2000_indexes]\n",
    "    # thin 2010 to shared geo\n",
    "    o = o.iloc[of_2010_indexes]\n",
    "    \n",
    "    # out \n",
    "    return b , o"
   ]
  },
  {
   "cell_type": "code",
   "execution_count": null,
   "metadata": {},
   "outputs": [],
   "source": [
    "a = convert()"
   ]
  },
  {
   "cell_type": "code",
   "execution_count": null,
   "metadata": {},
   "outputs": [],
   "source": [
    "len(a)"
   ]
  },
  {
   "cell_type": "code",
   "execution_count": null,
   "metadata": {},
   "outputs": [],
   "source": []
  }
 ],
 "metadata": {
  "kernelspec": {
   "display_name": "Python 3",
   "language": "python",
   "name": "python3"
  },
  "language_info": {
   "codemirror_mode": {
    "name": "ipython",
    "version": 3
   },
   "file_extension": ".py",
   "mimetype": "text/x-python",
   "name": "python",
   "nbconvert_exporter": "python",
   "pygments_lexer": "ipython3",
   "version": "3.7.2"
  }
 },
 "nbformat": 4,
 "nbformat_minor": 2
}
